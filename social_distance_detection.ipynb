{
 "cells": [
  {
   "cell_type": "code",
   "execution_count": 8,
   "metadata": {},
   "outputs": [],
   "source": [
    "import numpy as np\n",
    "import cv2 as cv\n",
    "import imutils\n",
    "from scipy.spatial import distance as dist\n",
    "from config import *"
   ]
  },
  {
   "cell_type": "code",
   "execution_count": 9,
   "metadata": {},
   "outputs": [],
   "source": [
    "labelsPath = MODEL_PATH + '/coco.names'\n",
    "LABELS = open(labelsPath).read().strip().split(\"\\n\")\n",
    "\n",
    "weightsPath = MODEL_PATH + \"/yolov3.weights\"\n",
    "configPath = MODEL_PATH + \"/yolov3.cfg\"\n",
    "\n",
    "yolo = cv.dnn.readNetFromDarknet(configPath, weightsPath)\n",
    "\n",
    "if USE_GPU:\n",
    "\tprint(\"[INFO] setting preferable backend and target to CUDA...\")\n",
    "\tyolo.setPreferableBackend(cv.dnn.DNN_BACKEND_CUDA)\n",
    "\tyolo.setPreferableTarget(cv.dnn.DNN_TARGET_CUDA)\n",
    "\n",
    "output_layer = yolo.getUnconnectedOutLayersNames()"
   ]
  },
  {
   "cell_type": "code",
   "execution_count": 10,
   "metadata": {},
   "outputs": [],
   "source": [
    "vs = cv.VideoCapture(VIDEO_PATH)\n",
    "output_video = None"
   ]
  },
  {
   "cell_type": "code",
   "execution_count": 11,
   "metadata": {},
   "outputs": [],
   "source": [
    "def detect_people(frame, net, ln, personIdx):\n",
    "    (H,W) = frame.shape[:2]\n",
    "    results = []\n",
    "\n",
    "    blob = cv.dnn.blobFromImage(frame, 1/255.0, (416,416), swapRB = True, crop = False)\n",
    "    net.setInput(blob)\n",
    "    layerOutputs = net.forward(ln)\n",
    "    boxes = []\n",
    "    centroids = []\n",
    "    confidences = []\n",
    "    \n",
    "    for output in layerOutputs:\n",
    "        for detection in output:\n",
    "            scores = detection[5:]\n",
    "            classID = np.argmax(scores)\n",
    "            confidence = scores[classID]\n",
    "\n",
    "            if classID == personIdx and confidence > MIN_CONF:\n",
    "                box = detection[0:4] * np.array([W, H, W, H])\n",
    "                (centerX, centerY, width, height) = box.astype(\"int\")\n",
    "\n",
    "                x = int(centerX - (width / 2))\n",
    "                y = int(centerY - (height / 2))\n",
    "\n",
    "                boxes.append([x, y, int(width), int(height)])\n",
    "                centroids.append((centerX, centerY))\n",
    "                confidences.append(float(confidence))\n",
    "\n",
    "    idxs = cv.dnn.NMSBoxes(boxes, confidences, MIN_CONF, NMS_THRESH)\n",
    "\n",
    "    if len(idxs) > 0:\n",
    "        for i in idxs.flatten():\n",
    "            (x,y) = (boxes[i][0], boxes[i][1])\n",
    "            (w,h) = (boxes[i][2], boxes[i][3])\n",
    "\n",
    "            instance = (confidences[i], (x,y,x+w, y+h), centroids[i])\n",
    "            results.append(instance)\n",
    "            \n",
    "    return results"
   ]
  },
  {
   "cell_type": "code",
   "execution_count": 12,
   "metadata": {},
   "outputs": [
    {
     "name": "stdout",
     "output_type": "stream",
     "text": [
      "hello\n",
      "hello\n",
      "writing to video\n",
      "hello\n",
      "writing to video\n",
      "hello\n",
      "writing to video\n",
      "hello\n",
      "writing to video\n",
      "hello\n",
      "writing to video\n",
      "hello\n",
      "writing to video\n"
     ]
    },
    {
     "ename": "",
     "evalue": "",
     "output_type": "error",
     "traceback": [
      "\u001b[1;31mThe Kernel crashed while executing code in the the current cell or a previous cell. Please review the code in the cell(s) to identify a possible cause of the failure. Click <a href='https://aka.ms/vscodeJupyterKernelCrash'>here</a> for more info. View Jupyter <a href='command:jupyter.viewOutput'>log</a> for further details."
     ]
    }
   ],
   "source": [
    "while True:\n",
    "  (frame_exists, frame) = vs.read()\n",
    "  if not frame_exists:\n",
    "    break\n",
    "  else:\n",
    "    frame = imutils.resize(frame, width = SIZE_FRAME)\n",
    "    results = detect_people(frame, yolo, output_layer, personIdx= LABELS.index(\"person\"))\n",
    "        \n",
    "    violate = set()\n",
    "\n",
    "    if len(results) > 2:\n",
    "      centroids = np.array([r[2] for r in results])\n",
    "      distance = dist.cdist(centroids, centroids, metric=\"euclidean\")\n",
    "            \n",
    "      for i in range(0, distance.shape[0]):\n",
    "        for j in range(i+1, distance.shape[1]):\n",
    "          if distance[i,j] < MIN_DISTANCE:\n",
    "            violate.add(i)\n",
    "            violate.add(j)\n",
    "        \n",
    "    for (i, (confidence, bbox, centroid)) in enumerate(results):\n",
    "      (startX, startY, endX, endY) = bbox\n",
    "      (cX, cY) = centroid\n",
    "      color = COLOR_GREEN\n",
    "      \n",
    "      if i in violate:\n",
    "        color = COLOR_RED\n",
    "        \n",
    "      cv.rectangle(frame, (startX, startY), (endX, endY), color, 2)\n",
    "      cv.circle(frame, (cX, cY), 5, color, 1)\n",
    "\n",
    "  cv.imshow(\"Social Distance Detection\", frame)\n",
    "  key = cv.waitKey(1) & 0xFF\n",
    "  \n",
    "  if output_video is None:\n",
    "    fourcc1 = cv.VideoWriter_fourcc(*\"MJPG\")\n",
    "    output_video = cv.VideoWriter(\"./output/result.avi\", fourcc1, 25,(frame.shape[1], frame.shape[0]), True)\n",
    "  else:\n",
    "    print(\"writing to video\")\n",
    "    output_video.write(frame)\n",
    "\n",
    "  if key == ord(\"q\"):\n",
    "    break"
   ]
  }
 ],
 "metadata": {
  "interpreter": {
   "hash": "6297d360852260ef8c81e78eef5f461360d563418965bf7e4b6f54e341f9bd2a"
  },
  "kernelspec": {
   "display_name": "Python 3.9.7 ('myenv')",
   "language": "python",
   "name": "python3"
  },
  "language_info": {
   "codemirror_mode": {
    "name": "ipython",
    "version": 3
   },
   "file_extension": ".py",
   "mimetype": "text/x-python",
   "name": "python",
   "nbconvert_exporter": "python",
   "pygments_lexer": "ipython3",
   "version": "3.9.7"
  },
  "orig_nbformat": 4
 },
 "nbformat": 4,
 "nbformat_minor": 2
}
